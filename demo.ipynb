{
 "cells": [
  {
   "cell_type": "code",
   "execution_count": 1,
   "metadata": {},
   "outputs": [],
   "source": [
    "import pickle\n",
    "import pykitti\n",
    "import pydriver\n",
    "import pypcd\n",
    "import faiss\n",
    "import tqdm\n",
    "import numpy as np\n",
    "import matplotlib.pyplot as plt"
   ]
  },
  {
   "cell_type": "markdown",
   "metadata": {},
   "source": [
    "### Reading the drive cloud"
   ]
  },
  {
   "cell_type": "code",
   "execution_count": 2,
   "metadata": {},
   "outputs": [],
   "source": [
    "def read_clouds(basedir='KITTI', date='2011_09_26', drive='0035'):\n",
    "    data = pykitti.raw(basedir, date, drive, frames=range(60, 70))\n",
    "    for cloud in data.velo:\n",
    "        yield cloud[:,:3]"
   ]
  },
  {
   "cell_type": "code",
   "execution_count": 3,
   "metadata": {},
   "outputs": [],
   "source": [
    "cloud_gen = read_clouds()\n",
    "\n",
    "def create_cloud(data):\n",
    "    cloud = pydriver.pcl.pcl.PCLHelper()\n",
    "    cloud.fromArray(data)\n",
    "    return cloud\n",
    "\n",
    "\n",
    "cl1_data, cl2_data = next(cloud_gen), next(cloud_gen)\n",
    "cloud_1 = create_cloud(cl1_data)\n",
    "cloud_2 = create_cloud(cl2_data)"
   ]
  },
  {
   "cell_type": "code",
   "execution_count": 4,
   "metadata": {},
   "outputs": [
    {
     "data": {
      "text/plain": [
       "(114358, 3)"
      ]
     },
     "execution_count": 4,
     "metadata": {},
     "output_type": "execute_result"
    }
   ],
   "source": [
    "cl1_data.shape"
   ]
  },
  {
   "cell_type": "code",
   "execution_count": 5,
   "metadata": {},
   "outputs": [
    {
     "data": {
      "text/plain": [
       "(114632, 3)"
      ]
     },
     "execution_count": 5,
     "metadata": {},
     "output_type": "execute_result"
    }
   ],
   "source": [
    "cl2_data.shape"
   ]
  },
  {
   "cell_type": "markdown",
   "metadata": {},
   "source": [
    "### Extracting the keypoints"
   ]
  },
  {
   "cell_type": "code",
   "execution_count": 6,
   "metadata": {},
   "outputs": [],
   "source": [
    "def extractSHOT(cloud, shotRadius=1.5):\n",
    "    extractor = pydriver.features.shot.SHOTExtractor(shotRadius=shotRadius)\n",
    "    return extractor.getFeatures({'cloud': cloud}, cloud)"
   ]
  },
  {
   "cell_type": "code",
   "execution_count": 7,
   "metadata": {},
   "outputs": [
    {
     "name": "stdout",
     "output_type": "stream",
     "text": [
      "CPU times: user 47.5 s, sys: 224 ms, total: 47.8 s\n",
      "Wall time: 11.1 s\n"
     ]
    }
   ],
   "source": [
    "%%time\n",
    "feats1 = extractSHOT(cloud_1)"
   ]
  },
  {
   "cell_type": "code",
   "execution_count": 8,
   "metadata": {},
   "outputs": [
    {
     "name": "stdout",
     "output_type": "stream",
     "text": [
      "CPU times: user 47.5 s, sys: 216 ms, total: 47.7 s\n",
      "Wall time: 11.5 s\n"
     ]
    }
   ],
   "source": [
    "%%time\n",
    "feats2 = extractSHOT(cloud_2)"
   ]
  },
  {
   "cell_type": "code",
   "execution_count": 9,
   "metadata": {},
   "outputs": [
    {
     "name": "stdout",
     "output_type": "stream",
     "text": [
      "CPU times: user 456 ms, sys: 20.1 ms, total: 476 ms\n",
      "Wall time: 475 ms\n"
     ]
    }
   ],
   "source": [
    "%%time\n",
    "cloud_1 = create_cloud(np.array([list(line) for line in feats1[0]]))\n",
    "cloud_2 = create_cloud(np.array([list(line) for line in feats2[0]]))"
   ]
  },
  {
   "cell_type": "code",
   "execution_count": 10,
   "metadata": {},
   "outputs": [],
   "source": [
    "feats1 = feats1[1].astype(np.float32)\n",
    "feats2 = feats2[1].astype(np.float32)"
   ]
  },
  {
   "cell_type": "markdown",
   "metadata": {},
   "source": [
    "### Matching the keypoints (kNN - FAISS-implementation)"
   ]
  },
  {
   "cell_type": "code",
   "execution_count": 13,
   "metadata": {},
   "outputs": [
    {
     "name": "stdout",
     "output_type": "stream",
     "text": [
      "CPU times: user 41 µs, sys: 7 µs, total: 48 µs\n",
      "Wall time: 49.6 µs\n"
     ]
    }
   ],
   "source": [
    "%%time\n",
    "\n",
    "# Building the index\n",
    "nlist = int(np.sqrt(feats2.shape[0]))\n",
    "d = feats2.shape[-1]\n",
    "quantizer = faiss.IndexFlatL2(d)   # build the index\n",
    "index = faiss.IndexIVFFlat(quantizer, d, nlist, faiss.METRIC_L2)"
   ]
  },
  {
   "cell_type": "code",
   "execution_count": 14,
   "metadata": {},
   "outputs": [
    {
     "name": "stdout",
     "output_type": "stream",
     "text": [
      "CPU times: user 38.5 s, sys: 24.2 s, total: 1min 2s\n",
      "Wall time: 8.02 s\n"
     ]
    }
   ],
   "source": [
    "%%time\n",
    "index.train(feats2)\n",
    "assert index.is_trained\n",
    "index.add(feats2)"
   ]
  },
  {
   "cell_type": "code",
   "execution_count": 15,
   "metadata": {},
   "outputs": [
    {
     "data": {
      "application/vnd.jupyter.widget-view+json": {
       "model_id": "561ea6f4d075429a872f1c5b31d7b52f",
       "version_major": 2,
       "version_minor": 0
      },
      "text/plain": [
       "HBox(children=(IntProgress(value=0, max=14271), HTML(value='')))"
      ]
     },
     "metadata": {},
     "output_type": "display_data"
    },
    {
     "name": "stdout",
     "output_type": "stream",
     "text": [
      "\n",
      "CPU times: user 10.5 s, sys: 2.98 ms, total: 10.5 s\n",
      "Wall time: 1.36 s\n"
     ]
    }
   ],
   "source": [
    "%%time\n",
    "\n",
    "# Performing kNN\n",
    "distances = []\n",
    "indices = []\n",
    "n_threads = 8\n",
    "for i in tqdm.tqdm_notebook(range((feats1.shape[0] + n_threads - 1) // n_threads)):\n",
    "    start, end = i * n_threads, (i + 1) * n_threads\n",
    "    query = feats1[start:end]\n",
    "    D, I = index.search(query, 1)\n",
    "    distances += list(D.ravel())\n",
    "    indices += list(I.ravel())"
   ]
  },
  {
   "cell_type": "code",
   "execution_count": 16,
   "metadata": {},
   "outputs": [],
   "source": [
    "assert len(distances) == len(feats1)\n",
    "assert len(indices) == len(feats1)"
   ]
  },
  {
   "cell_type": "code",
   "execution_count": 17,
   "metadata": {},
   "outputs": [
    {
     "data": {
      "text/plain": [
       "[3, 4, 4, 41000, 8]"
      ]
     },
     "execution_count": 17,
     "metadata": {},
     "output_type": "execute_result"
    }
   ],
   "source": [
    "indices[:5]"
   ]
  },
  {
   "cell_type": "code",
   "execution_count": 18,
   "metadata": {},
   "outputs": [
    {
     "data": {
      "text/plain": [
       "[0.09013024, 0.0716871, 0.18087459, 0.66395855, 0.30887198]"
      ]
     },
     "execution_count": 18,
     "metadata": {},
     "output_type": "execute_result"
    }
   ],
   "source": [
    "distances[:5]"
   ]
  },
  {
   "cell_type": "markdown",
   "metadata": {},
   "source": [
    "### Setting the optimal threshold for kNN"
   ]
  },
  {
   "cell_type": "code",
   "execution_count": 310,
   "metadata": {},
   "outputs": [],
   "source": [
    "kNN_THRESHOLD = 0.05"
   ]
  },
  {
   "cell_type": "code",
   "execution_count": 311,
   "metadata": {
    "scrolled": true
   },
   "outputs": [
    {
     "data": {
      "image/png": "[encoded data removed]",
      "text/plain": [
       "<Figure size 432x288 with 1 Axes>"
      ]
     },
     "metadata": {
      "needs_background": "light"
     },
     "output_type": "display_data"
    }
   ],
   "source": [
    "plt.hist(distances, bins=100)\n",
    "plt.vlines(kNN_THRESHOLD, 0, 20000, colors='black')\n",
    "plt.show()"
   ]
  },
  {
   "cell_type": "markdown",
   "metadata": {},
   "source": [
    "### Making matches"
   ]
  },
  {
   "cell_type": "code",
   "execution_count": 312,
   "metadata": {},
   "outputs": [
    {
     "name": "stdout",
     "output_type": "stream",
     "text": [
      "CPU times: user 16 ms, sys: 0 ns, total: 16 ms\n",
      "Wall time: 15.4 ms\n"
     ]
    }
   ],
   "source": [
    "%%time\n",
    "kp_set_1 = set(np.arange(len(feats1)))\n",
    "kp_set_2 = set(np.arange(len(feats2)))"
   ]
  },
  {
   "cell_type": "code",
   "execution_count": 313,
   "metadata": {},
   "outputs": [
    {
     "name": "stderr",
     "output_type": "stream",
     "text": [
      "100%|██████████| 114163/114163 [00:00<00:00, 633986.73it/s]"
     ]
    },
    {
     "name": "stdout",
     "output_type": "stream",
     "text": [
      "CPU times: user 190 ms, sys: 6 µs, total: 190 ms\n",
      "Wall time: 189 ms\n"
     ]
    },
    {
     "name": "stderr",
     "output_type": "stream",
     "text": [
      "\n"
     ]
    }
   ],
   "source": [
    "%%time\n",
    "matches = []\n",
    "\n",
    "# Sampling uniform indices is the same as random shuffling them at the beginning\n",
    "indices = np.arange(len(kp_set_1))\n",
    "np.random.seed(42)\n",
    "np.random.shuffle(indices)\n",
    "for idx in tqdm.tqdm(indices):\n",
    "    if distances[idx] <= kNN_THRESHOLD and indices[idx] in kp_set_2:\n",
    "        matches.append((idx, indices[idx]))\n",
    "        kp_set_2.remove(indices[idx])"
   ]
  },
  {
   "cell_type": "code",
   "execution_count": 314,
   "metadata": {},
   "outputs": [
    {
     "data": {
      "text/plain": [
       "45008"
      ]
     },
     "execution_count": 314,
     "metadata": {},
     "output_type": "execute_result"
    }
   ],
   "source": [
    "len(matches)"
   ]
  },
  {
   "cell_type": "code",
   "execution_count": 315,
   "metadata": {},
   "outputs": [
    {
     "data": {
      "text/plain": [
       "[(97615, 40403), (75031, 42612), (52366, 1498), (92157, 22505), (75252, 22365)]"
      ]
     },
     "execution_count": 315,
     "metadata": {},
     "output_type": "execute_result"
    }
   ],
   "source": [
    "matches[:5]"
   ]
  },
  {
   "cell_type": "markdown",
   "metadata": {},
   "source": [
    "### Making triangulation"
   ]
  },
  {
   "cell_type": "code",
   "execution_count": 319,
   "metadata": {},
   "outputs": [],
   "source": [
    "cloud_1.save('/home/shakhrayv/Documents/mipt/thesis/3D-Scene-Flow-Optimization/frames/frame.pcd')"
   ]
  },
  {
   "cell_type": "code",
   "execution_count": 320,
   "metadata": {},
   "outputs": [],
   "source": [
    "!./triangulation/extract_mesh frames/frame.pcd"
   ]
  },
  {
   "cell_type": "markdown",
   "metadata": {},
   "source": [
    "### (Optional) visualization"
   ]
  },
  {
   "cell_type": "code",
   "execution_count": null,
   "metadata": {},
   "outputs": [],
   "source": [
    "!./visualization/visualize_mesh mesh.vtk"
   ]
  },
  {
   "cell_type": "markdown",
   "metadata": {},
   "source": [
    "### Reading triangulation data"
   ]
  },
  {
   "cell_type": "code",
   "execution_count": 321,
   "metadata": {},
   "outputs": [],
   "source": [
    "f = open('mesh.vtk', 'r')"
   ]
  },
  {
   "cell_type": "code",
   "execution_count": 322,
   "metadata": {},
   "outputs": [],
   "source": [
    "def skip_block(n):\n",
    "    for _ in range(n):\n",
    "        f.readline()"
   ]
  },
  {
   "cell_type": "code",
   "execution_count": 323,
   "metadata": {},
   "outputs": [],
   "source": [
    "skip_block(4)\n",
    "    \n",
    "header = f.readline()"
   ]
  },
  {
   "cell_type": "code",
   "execution_count": 324,
   "metadata": {},
   "outputs": [],
   "source": [
    "n_points = int(header.strip().split()[1])\n",
    "points = [tuple(map(float, f.readline().strip().split())) for i in range(n_points)]\n",
    "skip_block(n_points + 3)"
   ]
  },
  {
   "cell_type": "code",
   "execution_count": 325,
   "metadata": {},
   "outputs": [],
   "source": [
    "polygons = []\n",
    "n_polygons = int(f.readline().strip().split()[1])\n",
    "for i in range(n_polygons):\n",
    "    polygons.append(tuple(map(int, f.readline().strip().split()))[1:])"
   ]
  },
  {
   "cell_type": "code",
   "execution_count": 326,
   "metadata": {},
   "outputs": [
    {
     "data": {
      "text/plain": [
       "1923"
      ]
     },
     "execution_count": 326,
     "metadata": {},
     "output_type": "execute_result"
    }
   ],
   "source": [
    "len(polygons)"
   ]
  },
  {
   "cell_type": "markdown",
   "metadata": {},
   "source": [
    "### Solving the energy minimization problem"
   ]
  },
  {
   "cell_type": "code",
   "execution_count": 327,
   "metadata": {},
   "outputs": [],
   "source": [
    "from pyquaternion import Quaternion"
   ]
  },
  {
   "cell_type": "code",
   "execution_count": 328,
   "metadata": {},
   "outputs": [],
   "source": [
    "def vector2tq(vector):\n",
    "    translation = vector[:3]\n",
    "    vector_part = vector[3:]\n",
    "    rotation = Quaternion(1, *vector_part)\n",
    "    return translation, rotation"
   ]
  },
  {
   "cell_type": "code",
   "execution_count": 329,
   "metadata": {},
   "outputs": [],
   "source": [
    "def transform(vector, translation, rotation):\n",
    "    return rotation.rotate(vector) + translation"
   ]
  },
  {
   "cell_type": "code",
   "execution_count": 356,
   "metadata": {},
   "outputs": [],
   "source": [
    "def data_term_error(p, p_, tau):\n",
    "    t, q = vector2tq(tau)\n",
    "    result = transform(p, t, q)\n",
    "    return np.linalg.norm(result - p_)\n",
    "\n",
    "# Required for scipy.optimize.root method\n",
    "def create_data_func(p, p_):\n",
    "    def func(tau):\n",
    "        return data_term_error(p, p_, tau)\n",
    "    return func"
   ]
  },
  {
   "cell_type": "code",
   "execution_count": 331,
   "metadata": {},
   "outputs": [],
   "source": [
    "def regularization_term(tau_1, tau_2):\n",
    "    t1, q1 = vector2tq(tau_1)\n",
    "    t2, q2 = vector2tq(tau_2)\n",
    "    mat1 = q1.rotation_matrix\n",
    "    mat2 = q2.rotation_matrix\n",
    "    # building SE3 matrices\n",
    "    mat1 = np.hstack([mat1, t1.reshape((-1, 1))])\n",
    "    mat2 = np.hstack([mat2, t2.reshape((-1, 1))])\n",
    "    mat1 = np.vstack([mat1, np.array([0, 0, 0, 1])])\n",
    "    mat2 = np.vstack([mat2, np.array([0, 0, 0, 1])])\n",
    "    product = np.linalg.inv(mat1) @ mat2\n",
    "    translation = product[:3,3].ravel()\n",
    "    vector = Quaternion(matrix=product[:3,:3]).vector.ravel()\n",
    "    result = np.zeros(6)\n",
    "    result[:3] = translation\n",
    "    result[3:] = vector\n",
    "    return np.linalg.norm(result)"
   ]
  },
  {
   "cell_type": "markdown",
   "metadata": {},
   "source": [
    "### Checking some distributions"
   ]
  },
  {
   "cell_type": "code",
   "execution_count": 332,
   "metadata": {},
   "outputs": [
    {
     "data": {
      "text/plain": [
       "45008"
      ]
     },
     "execution_count": 332,
     "metadata": {},
     "output_type": "execute_result"
    }
   ],
   "source": [
    "len(matches)"
   ]
  },
  {
   "cell_type": "code",
   "execution_count": 333,
   "metadata": {},
   "outputs": [
    {
     "data": {
      "text/plain": [
       "1923"
      ]
     },
     "execution_count": 333,
     "metadata": {},
     "output_type": "execute_result"
    }
   ],
   "source": [
    "len(polygons)"
   ]
  },
  {
   "cell_type": "code",
   "execution_count": 334,
   "metadata": {},
   "outputs": [],
   "source": [
    "match = dict(matches)"
   ]
  },
  {
   "cell_type": "code",
   "execution_count": 335,
   "metadata": {},
   "outputs": [],
   "source": [
    "poly = [set() for _ in range(len(feats1))]\n",
    "for i, polygon in enumerate(polygons):\n",
    "    for dot in polygon:\n",
    "        poly[dot].add(i)"
   ]
  },
  {
   "cell_type": "code",
   "execution_count": 336,
   "metadata": {},
   "outputs": [],
   "source": [
    "# Calculating statistics\n",
    "no_connections = 0 # Not the keypoint, not in any triangle\n",
    "keypoint_only = 0 # Not in any triangle, but is a keypoint\n",
    "only_triangle = 0 # Not the keypoint, but in a triange\n",
    "keypoint_triangle = 0 # Is a keypoint, is a triangle\n",
    "for index in range(len(feats1)):\n",
    "    if index not in match:\n",
    "        if len(poly[index]) == 0:\n",
    "            no_connections += 1\n",
    "        else:\n",
    "            only_triangle += 1\n",
    "    else:\n",
    "        if len(poly[index]) == 0:\n",
    "            keypoint_only += 1\n",
    "        else:\n",
    "            keypoint_triangle += 1"
   ]
  },
  {
   "cell_type": "code",
   "execution_count": 337,
   "metadata": {},
   "outputs": [
    {
     "data": {
      "text/plain": [
       "(67342, 43154, 1813, 1854)"
      ]
     },
     "execution_count": 337,
     "metadata": {},
     "output_type": "execute_result"
    }
   ],
   "source": [
    "no_connections, keypoint_only, only_triangle, keypoint_triangle"
   ]
  },
  {
   "cell_type": "markdown",
   "metadata": {},
   "source": [
    "Checking, how many triangles are isolated (important!)"
   ]
  },
  {
   "cell_type": "code",
   "execution_count": 338,
   "metadata": {},
   "outputs": [
    {
     "data": {
      "text/plain": [
       "647"
      ]
     },
     "execution_count": 338,
     "metadata": {},
     "output_type": "execute_result"
    }
   ],
   "source": [
    "num_isolated = 0\n",
    "for p in polygons:\n",
    "    isolated = True\n",
    "    for d in p:\n",
    "        assert len(poly[d]) >= 1\n",
    "        if len(poly[d]) > 1:\n",
    "            isolated = False\n",
    "            break\n",
    "    if isolated:\n",
    "        num_isolated += 1\n",
    "num_isolated"
   ]
  },
  {
   "cell_type": "markdown",
   "metadata": {},
   "source": [
    "### Solving only for keypoints"
   ]
  },
  {
   "cell_type": "markdown",
   "metadata": {},
   "source": [
    "An example first"
   ]
  },
  {
   "cell_type": "code",
   "execution_count": 373,
   "metadata": {},
   "outputs": [],
   "source": [
    "key = list(match.keys())[1]"
   ]
  },
  {
   "cell_type": "code",
   "execution_count": 374,
   "metadata": {},
   "outputs": [],
   "source": [
    "i1, i2 = key, match[key]"
   ]
  },
  {
   "cell_type": "code",
   "execution_count": 375,
   "metadata": {},
   "outputs": [],
   "source": [
    "p1, p2 = cloud_1.toArray(True, False)[i1], cloud_2.toArray(True, False)[i2]"
   ]
  },
  {
   "cell_type": "code",
   "execution_count": 376,
   "metadata": {},
   "outputs": [
    {
     "data": {
      "text/plain": [
       "(array([ 3.117     , -0.496     ,  0.17400658], dtype=float32),\n",
       " array([ -0.989, -10.801,  -0.468], dtype=float32))"
      ]
     },
     "execution_count": 376,
     "metadata": {},
     "output_type": "execute_result"
    }
   ],
   "source": [
    "p1, p2"
   ]
  },
  {
   "cell_type": "code",
   "execution_count": 377,
   "metadata": {},
   "outputs": [
    {
     "data": {
      "text/plain": [
       "array([ -4.106    , -10.304999 ,  -0.6420066], dtype=float32)"
      ]
     },
     "execution_count": 377,
     "metadata": {},
     "output_type": "execute_result"
    }
   ],
   "source": [
    "# This is what the answer should look like! \n",
    "p2 - p1"
   ]
  },
  {
   "cell_type": "code",
   "execution_count": 378,
   "metadata": {},
   "outputs": [],
   "source": [
    "vector = np.random.randn(6)"
   ]
  },
  {
   "cell_type": "code",
   "execution_count": 380,
   "metadata": {},
   "outputs": [],
   "source": [
    "from scipy.optimize import root"
   ]
  },
  {
   "cell_type": "code",
   "execution_count": 381,
   "metadata": {},
   "outputs": [],
   "source": [
    "f = create_data_func(p1, p2)"
   ]
  },
  {
   "cell_type": "code",
   "execution_count": 382,
   "metadata": {},
   "outputs": [
    {
     "data": {
      "text/plain": [
       "10.282414226698046"
      ]
     },
     "execution_count": 382,
     "metadata": {},
     "output_type": "execute_result"
    }
   ],
   "source": [
    "f(np.random.randn(6))"
   ]
  },
  {
   "cell_type": "code",
   "execution_count": 385,
   "metadata": {},
   "outputs": [
    {
     "data": {
      "text/plain": [
       " final_simplex: (array([[-4.14582814e+00, -1.06479335e+01, -5.23530714e-01,\n",
       "        -7.60863744e-03,  1.96769128e-02,  5.43794335e-02],\n",
       "       [-4.14583284e+00, -1.06478624e+01, -5.23483046e-01,\n",
       "        -7.60841828e-03,  1.96768064e-02,  5.43786635e-02],\n",
       "       [-4.14576720e+00, -1.06479420e+01, -5.23496184e-01,\n",
       "        -7.60869527e-03,  1.96769798e-02,  5.43791658e-02],\n",
       "       [-4.14578672e+00, -1.06479203e+01, -5.23443214e-01,\n",
       "        -7.60861920e-03,  1.96770432e-02,  5.43785064e-02],\n",
       "       [-4.14576113e+00, -1.06478995e+01, -5.23524636e-01,\n",
       "        -7.60874181e-03,  1.96768819e-02,  5.43793069e-02],\n",
       "       [-4.14583537e+00, -1.06479666e+01, -5.23526332e-01,\n",
       "        -7.60869923e-03,  1.96770110e-02,  5.43795677e-02],\n",
       "       [-4.14587811e+00, -1.06478685e+01, -5.23505455e-01,\n",
       "        -7.60837011e-03,  1.96767993e-02,  5.43788767e-02]]), array([4.34134677e-05, 5.10282752e-05, 5.54898491e-05, 5.97715040e-05,\n",
       "       6.03343010e-05, 6.57253812e-05, 7.71560455e-05]))\n",
       "           fun: 4.3413467716124923e-05\n",
       "       message: 'Optimization terminated successfully.'\n",
       "          nfev: 361\n",
       "           nit: 222\n",
       "        status: 0\n",
       "       success: True\n",
       "             x: array([-4.14582814e+00, -1.06479335e+01, -5.23530714e-01, -7.60863744e-03,\n",
       "        1.96769128e-02,  5.43794335e-02])"
      ]
     },
     "execution_count": 385,
     "metadata": {},
     "output_type": "execute_result"
    }
   ],
   "source": [
    "import scipy\n",
    "scipy.optimize.minimize(f, [1, 1, 1, 0, 0, 0], method='Nelder-Mead')"
   ]
  },
  {
   "cell_type": "markdown",
   "metadata": {},
   "source": [
    "### Solving for the triangles"
   ]
  },
  {
   "cell_type": "code",
   "execution_count": 393,
   "metadata": {},
   "outputs": [],
   "source": [
    "p = polygons[0]"
   ]
  },
  {
   "cell_type": "code",
   "execution_count": 394,
   "metadata": {},
   "outputs": [],
   "source": [
    "p1, p2, p3 = cloud_1.toArray(True, False)[p[0]], cloud_1.toArray(True, False)[p[1]], cloud_1.toArray(True, False)[p[2]]"
   ]
  },
  {
   "cell_type": "code",
   "execution_count": 395,
   "metadata": {},
   "outputs": [
    {
     "data": {
      "text/plain": [
       "(array([ 1.5720457, -0.872    , -4.305    ], dtype=float32),\n",
       " array([ 1.5805758, -0.863    , -4.306    ], dtype=float32),\n",
       " array([ 1.5781583, -0.85     , -4.298    ], dtype=float32))"
      ]
     },
     "execution_count": 395,
     "metadata": {},
     "output_type": "execute_result"
    }
   ],
   "source": [
    "p1, p2, p3"
   ]
  },
  {
   "cell_type": "code",
   "execution_count": 401,
   "metadata": {},
   "outputs": [],
   "source": [
    "def metric_function(vec):\n",
    "    taus = vec[:6], vec[6:12], vec[12:]\n",
    "    metric = 0.\n",
    "    \n",
    "    # Adding data term\n",
    "    for i in range(3):\n",
    "        if p[i] in match:\n",
    "            metric += data_term_error(cloud_1.toArray(True, False)[p[i]], cloud_2.toArray(True, False)[match[p[i]]], taus[i])\n",
    "    \n",
    "    # Adding regularization\n",
    "    metric += regularization_term(taus[0], taus[1])\n",
    "    metric += regularization_term(taus[0], taus[2])\n",
    "    metric += regularization_term(taus[1], taus[2])\n",
    "    \n",
    "    return metric"
   ]
  },
  {
   "cell_type": "code",
   "execution_count": 404,
   "metadata": {},
   "outputs": [
    {
     "data": {
      "text/plain": [
       "44.42544804714355"
      ]
     },
     "execution_count": 404,
     "metadata": {},
     "output_type": "execute_result"
    }
   ],
   "source": [
    "metric_function(np.random.randn(18))"
   ]
  },
  {
   "cell_type": "code",
   "execution_count": 406,
   "metadata": {
    "scrolled": false
   },
   "outputs": [
    {
     "name": "stdout",
     "output_type": "stream",
     "text": [
      "CPU times: user 20.6 s, sys: 28.5 s, total: 49.1 s\n",
      "Wall time: 12.3 s\n"
     ]
    },
    {
     "data": {
      "text/plain": [
       " final_simplex: (array([[   0.50410984,    0.92426357,   33.17808521,   76.76177242,\n",
       "          -7.81766253,   22.90983098,    0.60071217,    1.11030675,\n",
       "          33.20138264,   -0.35290197,  -26.99710395,  -20.0310533 ,\n",
       "           0.63011843,    1.182036  ,   33.20668546,  -12.33754848,\n",
       "        -123.90325097,  -34.50084871],\n",
       "       [   0.50405032,    0.92426927,   33.17806672,   76.76151787,\n",
       "          -7.81762348,   22.90916133,    0.60067366,    1.1103307 ,\n",
       "          33.20159119,   -0.35243082,  -26.99702537,  -20.03057454,\n",
       "           0.63011609,    1.18201017,   33.20675983,  -12.33750431,\n",
       "        -123.90217482,  -34.50067494],\n",
       "       [   0.50418717,    0.92426016,   33.17809726,   76.76252482,\n",
       "          -7.81774822,   22.91075313,    0.60058939,    1.11024325,\n",
       "          33.20130705,   -0.35348356,  -26.99709574,  -20.03169752,\n",
       "           0.63012679,    1.18207102,   33.20641886,  -12.33765222,\n",
       "        -123.90519936,  -34.50104384],\n",
       "       [   0.50377801,    0.9242967 ,   33.1780193 ,   76.76247517,\n",
       "          -7.81753563,   22.90682499,    0.60087376,    1.11047884,\n",
       "          33.20134425,   -0.3515024 ,  -26.99656917,  -20.0292333 ,\n",
       "           0.63010276,    1.18194579,   33.20662797,  -12.33739536,\n",
       "        -123.89771041,  -34.50012465],\n",
       "       [   0.50404026,    0.92427516,   33.17807261,   76.76130477,\n",
       "          -7.81759003,   22.90897976,    0.60085873,    1.11027417,\n",
       "          33.20154905,   -0.35233035,  -26.99707105,  -20.03048041,\n",
       "           0.63011315,    1.18200038,   33.2067925 ,  -12.33746346,\n",
       "        -123.9016019 ,  -34.50062803],\n",
       "       [   0.50381879,    0.92429597,   33.17802363,   76.76074288,\n",
       "          -7.81746265,   22.90676285,    0.60077722,    1.11033899,\n",
       "          33.20160677,   -0.35112258,  -26.99677056,  -20.0290164 ,\n",
       "           0.63009861,    1.18193012,   33.20702596,  -12.33730935,\n",
       "        -123.89755648,  -34.50004242],\n",
       "       [   0.50418281,    0.92425963,   33.178099  ,   76.76180406,\n",
       "          -7.81769377,   22.91042302,    0.60077507,    1.11008187,\n",
       "          33.2015262 ,   -0.35314726,  -26.99717876,  -20.03150909,\n",
       "           0.63012494,    1.18204937,   33.20651822,  -12.33759153,\n",
       "        -123.90455166,  -34.50097235],\n",
       "       [   0.50396622,    0.92427877,   33.17805054,   76.76256808,\n",
       "          -7.81762632,   22.90866049,    0.6008703 ,    1.11077928,\n",
       "          33.20213228,   -0.35202866,  -26.99694889,  -20.03021297,\n",
       "           0.63012143,    1.18198524,   33.20661189,  -12.33752347,\n",
       "        -123.90149605,  -34.50065485],\n",
       "       [   0.50439832,    0.92423764,   33.17815047,   76.75953541,\n",
       "          -7.81766586,   22.91186767,    0.60079525,    1.10970458,\n",
       "          33.20138191,   -0.35367349,  -26.99770459,  -20.0323002 ,\n",
       "           0.63012292,    1.18208468,   33.20698546,  -12.33754801,\n",
       "        -123.90666842,  -34.50127569],\n",
       "       [   0.50419241,    0.92425198,   33.17810743,   76.76093622,\n",
       "          -7.81765876,   22.91027747,    0.60068502,    1.11009418,\n",
       "          33.2015063 ,   -0.35298599,  -26.99729055,  -20.03130962,\n",
       "           0.63012   ,    1.18204444,   33.20681254,  -12.33754349,\n",
       "        -123.90412328,  -34.50094764],\n",
       "       [   0.50371268,    0.92430627,   33.17799694,   76.7609248 ,\n",
       "          -7.81741237,   22.90571312,    0.60086405,    1.11052602,\n",
       "          33.20174113,   -0.35055283,  -26.99663083,  -20.02832367,\n",
       "           0.63009385,    1.181895  ,   33.20706797,  -12.33725149,\n",
       "        -123.89560172,  -34.49982247],\n",
       "       [   0.50391391,    0.92427837,   33.17803485,   76.75944191,\n",
       "          -7.81742825,   22.90727302,    0.60090552,    1.11034498,\n",
       "          33.20189361,   -0.35108838,  -26.99711629,  -20.02917748,\n",
       "           0.63009894,    1.1819319 ,   33.20736817,  -12.3372646 ,\n",
       "        -123.89822238,  -34.50022706],\n",
       "       [   0.5040168 ,    0.92426882,   33.17807329,   76.75979603,\n",
       "          -7.81752415,   22.90833558,    0.60059675,    1.11004023,\n",
       "          33.20196629,   -0.35165696,  -26.99711053,  -20.02997917,\n",
       "           0.63011003,    1.18197059,   33.20710258,  -12.33739113,\n",
       "        -123.90087659,  -34.50041327],\n",
       "       [   0.50403099,    0.92427712,   33.178066  ,   76.76172063,\n",
       "          -7.81757274,   22.90897384,    0.60140269,    1.1099638 ,\n",
       "          33.20106598,   -0.35263303,  -26.99706664,  -20.03073763,\n",
       "           0.63010975,    1.18200158,   33.20652307,  -12.33743013,\n",
       "        -123.90093869,  -34.50064406],\n",
       "       [   0.50424674,    0.92424129,   33.17811701,   76.76315882,\n",
       "          -7.81780424,   22.91151337,    0.60085265,    1.11025383,\n",
       "          33.20124463,   -0.35400501,  -26.99721652,  -20.03230198,\n",
       "           0.63013297,    1.18209631,   33.20624662,  -12.33771685,\n",
       "        -123.9064317 ,  -34.50134887],\n",
       "       [   0.5039586 ,    0.92428892,   33.17804924,   76.76219534,\n",
       "          -7.81760481,   22.90846007,    0.6007796 ,    1.11029794,\n",
       "          33.20149245,   -0.35219755,  -26.99680707,  -20.03023861,\n",
       "           0.63011363,    1.18199022,   33.20654175,  -12.33748546,\n",
       "        -123.9009175 ,  -34.5004583 ],\n",
       "       [   0.50384763,    0.92429926,   33.1780255 ,   76.76074222,\n",
       "          -7.81747425,   22.90700207,    0.60073407,    1.11030572,\n",
       "          33.20176423,   -0.35115748,  -26.99678897,  -20.02915512,\n",
       "           0.63010203,    1.18193359,   33.20696794,  -12.33732977,\n",
       "        -123.89818301,  -34.50006557],\n",
       "       [   0.50459175,    0.92421251,   33.17818171,   76.76192061,\n",
       "          -7.81789053,   22.91435475,    0.60088904,    1.10994798,\n",
       "          33.20180086,   -0.35500329,  -26.99783943,  -20.03398868,\n",
       "           0.63015193,    1.18216241,   33.20631406,  -12.33783194,\n",
       "        -123.9118679 ,  -34.50202667],\n",
       "       [   0.50415774,    0.92425246,   33.1781035 ,   76.76116938,\n",
       "          -7.81766421,   22.91011777,    0.60062971,    1.11021826,\n",
       "          33.2014919 ,   -0.35293368,  -26.9972339 ,  -20.03118432,\n",
       "           0.63011951,    1.18204236,   33.20682827,  -12.33754921,\n",
       "        -123.90386417,  -34.50093086]]), array([2.43087373, 2.43087396, 2.43087435, 2.43087484, 2.43087497,\n",
       "       2.43087505, 2.43087536, 2.4308755 , 2.43087564, 2.43087601,\n",
       "       2.43087605, 2.43087609, 2.4308761 , 2.43087614, 2.43087634,\n",
       "       2.43087659, 2.43087711, 2.43087727, 2.43087746]))\n",
       "           fun: 2.4308737280954884\n",
       "       message: 'Maximum number of function evaluations has been exceeded.'\n",
       "          nfev: 3600\n",
       "           nit: 2792\n",
       "        status: 1\n",
       "       success: False\n",
       "             x: array([   0.50410984,    0.92426357,   33.17808521,   76.76177242,\n",
       "         -7.81766253,   22.90983098,    0.60071217,    1.11030675,\n",
       "         33.20138264,   -0.35290197,  -26.99710395,  -20.0310533 ,\n",
       "          0.63011843,    1.182036  ,   33.20668546,  -12.33754848,\n",
       "       -123.90325097,  -34.50084871])"
      ]
     },
     "execution_count": 406,
     "metadata": {},
     "output_type": "execute_result"
    }
   ],
   "source": [
    "%%time\n",
    "scipy.optimize.minimize(metric_function, np.random.randn(18), method='Nelder-Mead')"
   ]
  }
 ],
 "metadata": {
  "kernelspec": {
   "display_name": "Python 3",
   "language": "python",
   "name": "python3"
  },
  "language_info": {
   "codemirror_mode": {
    "name": "ipython",
    "version": 3
   },
   "file_extension": ".py",
   "mimetype": "text/x-python",
   "name": "python",
   "nbconvert_exporter": "python",
   "pygments_lexer": "ipython3",
   "version": "3.6.7"
  }
 },
 "nbformat": 4,
 "nbformat_minor": 2
}
